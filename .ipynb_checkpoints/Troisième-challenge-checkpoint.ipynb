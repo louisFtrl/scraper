{
 "cells": [
  {
   "cell_type": "code",
   "execution_count": 1,
   "id": "1a9677d4",
   "metadata": {
    "ExecuteTime": {
     "end_time": "2022-04-19T12:12:54.237425Z",
     "start_time": "2022-04-19T12:12:52.698304Z"
    }
   },
   "outputs": [],
   "source": [
    "import requests\n",
    "from bs4 import BeautifulSoup\n",
    "\n",
    "import numpy as np\n",
    "import pandas as pd\n",
    "\n",
    "%matplotlib inline\n",
    "import matplotlib"
   ]
  },
  {
   "cell_type": "code",
   "execution_count": 2,
   "id": "8b72aed2",
   "metadata": {
    "ExecuteTime": {
     "end_time": "2022-04-19T12:15:41.631585Z",
     "start_time": "2022-04-19T12:15:40.797180Z"
    }
   },
   "outputs": [],
   "source": [
    "url = \"http://books.toscrape.com/\"\n",
    "\n",
    "# This is where we do an HTTP request to get the HTML from the website\n",
    "response = requests.get(url)\n",
    "\n",
    "# And this is where we feed that HTML to the parser\n",
    "soup = BeautifulSoup(response.content, \"html.parser\")"
   ]
  },
  {
   "cell_type": "code",
   "execution_count": 67,
   "id": "b6d5b30d",
   "metadata": {
    "ExecuteTime": {
     "end_time": "2022-04-19T13:44:57.920086Z",
     "start_time": "2022-04-19T13:44:57.897805Z"
    }
   },
   "outputs": [
    {
     "data": {
      "text/plain": [
       "[<article class=\"product_pod\">\n",
       " <div class=\"image_container\">\n",
       " <a href=\"slow-states-of-collapse-poems_960/index.html\"><img alt=\"Slow States of Collapse: Poems\" class=\"thumbnail\" src=\"../media/cache/72/41/72417db983862010ef0c1a25de98c7d7.jpg\"/></a>\n",
       " </div>\n",
       " <p class=\"star-rating Three\">\n",
       " <i class=\"icon-star\"></i>\n",
       " <i class=\"icon-star\"></i>\n",
       " <i class=\"icon-star\"></i>\n",
       " <i class=\"icon-star\"></i>\n",
       " <i class=\"icon-star\"></i>\n",
       " </p>\n",
       " <h3><a href=\"slow-states-of-collapse-poems_960/index.html\" title=\"Slow States of Collapse: Poems\">Slow States of Collapse: ...</a></h3>\n",
       " <div class=\"product_price\">\n",
       " <p class=\"price_color\">£57.31</p>\n",
       " <p class=\"instock availability\">\n",
       " <i class=\"icon-ok\"></i>\n",
       "     \n",
       "         In stock\n",
       "     \n",
       " </p>\n",
       " <form>\n",
       " <button class=\"btn btn-primary btn-block\" data-loading-text=\"Adding...\" type=\"submit\">Add to basket</button>\n",
       " </form>\n",
       " </div>\n",
       " </article>,\n",
       " <article class=\"product_pod\">\n",
       " <div class=\"image_container\">\n",
       " <a href=\"reasons-to-stay-alive_959/index.html\"><img alt=\"Reasons to Stay Alive\" class=\"thumbnail\" src=\"../media/cache/cb/bd/cbbdb0222ee8a0f6ab61657412a15794.jpg\"/></a>\n",
       " </div>\n",
       " <p class=\"star-rating Two\">\n",
       " <i class=\"icon-star\"></i>\n",
       " <i class=\"icon-star\"></i>\n",
       " <i class=\"icon-star\"></i>\n",
       " <i class=\"icon-star\"></i>\n",
       " <i class=\"icon-star\"></i>\n",
       " </p>\n",
       " <h3><a href=\"reasons-to-stay-alive_959/index.html\" title=\"Reasons to Stay Alive\">Reasons to Stay Alive</a></h3>\n",
       " <div class=\"product_price\">\n",
       " <p class=\"price_color\">£26.41</p>\n",
       " <p class=\"instock availability\">\n",
       " <i class=\"icon-ok\"></i>\n",
       "     \n",
       "         In stock\n",
       "     \n",
       " </p>\n",
       " <form>\n",
       " <button class=\"btn btn-primary btn-block\" data-loading-text=\"Adding...\" type=\"submit\">Add to basket</button>\n",
       " </form>\n",
       " </div>\n",
       " </article>,\n",
       " <article class=\"product_pod\">\n",
       " <div class=\"image_container\">\n",
       " <a href=\"private-paris-private-10_958/index.html\"><img alt=\"Private Paris (Private #10)\" class=\"thumbnail\" src=\"../media/cache/9d/05/9d0533bae1578846d728a82913b95c26.jpg\"/></a>\n",
       " </div>\n",
       " <p class=\"star-rating Five\">\n",
       " <i class=\"icon-star\"></i>\n",
       " <i class=\"icon-star\"></i>\n",
       " <i class=\"icon-star\"></i>\n",
       " <i class=\"icon-star\"></i>\n",
       " <i class=\"icon-star\"></i>\n",
       " </p>\n",
       " <h3><a href=\"private-paris-private-10_958/index.html\" title=\"Private Paris (Private #10)\">Private Paris (Private #10)</a></h3>\n",
       " <div class=\"product_price\">\n",
       " <p class=\"price_color\">£47.61</p>\n",
       " <p class=\"instock availability\">\n",
       " <i class=\"icon-ok\"></i>\n",
       "     \n",
       "         In stock\n",
       "     \n",
       " </p>\n",
       " <form>\n",
       " <button class=\"btn btn-primary btn-block\" data-loading-text=\"Adding...\" type=\"submit\">Add to basket</button>\n",
       " </form>\n",
       " </div>\n",
       " </article>,\n",
       " <article class=\"product_pod\">\n",
       " <div class=\"image_container\">\n",
       " <a href=\"higherselfie-wake-up-your-life-free-your-soul-find-your-tribe_957/index.html\"><img alt=\"#HigherSelfie: Wake Up Your Life. Free Your Soul. Find Your Tribe.\" class=\"thumbnail\" src=\"../media/cache/9c/46/9c463c7631c82401160fd3b554b8f0e1.jpg\"/></a>\n",
       " </div>\n",
       " <p class=\"star-rating Five\">\n",
       " <i class=\"icon-star\"></i>\n",
       " <i class=\"icon-star\"></i>\n",
       " <i class=\"icon-star\"></i>\n",
       " <i class=\"icon-star\"></i>\n",
       " <i class=\"icon-star\"></i>\n",
       " </p>\n",
       " <h3><a href=\"higherselfie-wake-up-your-life-free-your-soul-find-your-tribe_957/index.html\" title=\"#HigherSelfie: Wake Up Your Life. Free Your Soul. Find Your Tribe.\">#HigherSelfie: Wake Up Your ...</a></h3>\n",
       " <div class=\"product_price\">\n",
       " <p class=\"price_color\">£23.11</p>\n",
       " <p class=\"instock availability\">\n",
       " <i class=\"icon-ok\"></i>\n",
       "     \n",
       "         In stock\n",
       "     \n",
       " </p>\n",
       " <form>\n",
       " <button class=\"btn btn-primary btn-block\" data-loading-text=\"Adding...\" type=\"submit\">Add to basket</button>\n",
       " </form>\n",
       " </div>\n",
       " </article>,\n",
       " <article class=\"product_pod\">\n",
       " <div class=\"image_container\">\n",
       " <a href=\"without-borders-wanderlove-1_956/index.html\"><img alt=\"Without Borders (Wanderlove #1)\" class=\"thumbnail\" src=\"../media/cache/24/e2/24e2f5c9d325c4004d8190c054da86dd.jpg\"/></a>\n",
       " </div>\n",
       " <p class=\"star-rating Two\">\n",
       " <i class=\"icon-star\"></i>\n",
       " <i class=\"icon-star\"></i>\n",
       " <i class=\"icon-star\"></i>\n",
       " <i class=\"icon-star\"></i>\n",
       " <i class=\"icon-star\"></i>\n",
       " </p>\n",
       " <h3><a href=\"without-borders-wanderlove-1_956/index.html\" title=\"Without Borders (Wanderlove #1)\">Without Borders (Wanderlove #1)</a></h3>\n",
       " <div class=\"product_price\">\n",
       " <p class=\"price_color\">£45.07</p>\n",
       " <p class=\"instock availability\">\n",
       " <i class=\"icon-ok\"></i>\n",
       "     \n",
       "         In stock\n",
       "     \n",
       " </p>\n",
       " <form>\n",
       " <button class=\"btn btn-primary btn-block\" data-loading-text=\"Adding...\" type=\"submit\">Add to basket</button>\n",
       " </form>\n",
       " </div>\n",
       " </article>,\n",
       " <article class=\"product_pod\">\n",
       " <div class=\"image_container\">\n",
       " <a href=\"when-we-collided_955/index.html\"><img alt=\"When We Collided\" class=\"thumbnail\" src=\"../media/cache/08/04/08044269fc197645268a6197c57e6173.jpg\"/></a>\n",
       " </div>\n",
       " <p class=\"star-rating One\">\n",
       " <i class=\"icon-star\"></i>\n",
       " <i class=\"icon-star\"></i>\n",
       " <i class=\"icon-star\"></i>\n",
       " <i class=\"icon-star\"></i>\n",
       " <i class=\"icon-star\"></i>\n",
       " </p>\n",
       " <h3><a href=\"when-we-collided_955/index.html\" title=\"When We Collided\">When We Collided</a></h3>\n",
       " <div class=\"product_price\">\n",
       " <p class=\"price_color\">£31.77</p>\n",
       " <p class=\"instock availability\">\n",
       " <i class=\"icon-ok\"></i>\n",
       "     \n",
       "         In stock\n",
       "     \n",
       " </p>\n",
       " <form>\n",
       " <button class=\"btn btn-primary btn-block\" data-loading-text=\"Adding...\" type=\"submit\">Add to basket</button>\n",
       " </form>\n",
       " </div>\n",
       " </article>,\n",
       " <article class=\"product_pod\">\n",
       " <div class=\"image_container\">\n",
       " <a href=\"we-love-you-charlie-freeman_954/index.html\"><img alt=\"We Love You, Charlie Freeman\" class=\"thumbnail\" src=\"../media/cache/5f/15/5f152afdbc42356ecba02f61058a7e5b.jpg\"/></a>\n",
       " </div>\n",
       " <p class=\"star-rating Five\">\n",
       " <i class=\"icon-star\"></i>\n",
       " <i class=\"icon-star\"></i>\n",
       " <i class=\"icon-star\"></i>\n",
       " <i class=\"icon-star\"></i>\n",
       " <i class=\"icon-star\"></i>\n",
       " </p>\n",
       " <h3><a href=\"we-love-you-charlie-freeman_954/index.html\" title=\"We Love You, Charlie Freeman\">We Love You, Charlie ...</a></h3>\n",
       " <div class=\"product_price\">\n",
       " <p class=\"price_color\">£50.27</p>\n",
       " <p class=\"instock availability\">\n",
       " <i class=\"icon-ok\"></i>\n",
       "     \n",
       "         In stock\n",
       "     \n",
       " </p>\n",
       " <form>\n",
       " <button class=\"btn btn-primary btn-block\" data-loading-text=\"Adding...\" type=\"submit\">Add to basket</button>\n",
       " </form>\n",
       " </div>\n",
       " </article>,\n",
       " <article class=\"product_pod\">\n",
       " <div class=\"image_container\">\n",
       " <a href=\"untitled-collection-sabbath-poems-2014_953/index.html\"><img alt=\"Untitled Collection: Sabbath Poems 2014\" class=\"thumbnail\" src=\"../media/cache/f9/3b/f93b4a650f03a5d21f2436d7813f42c2.jpg\"/></a>\n",
       " </div>\n",
       " <p class=\"star-rating Four\">\n",
       " <i class=\"icon-star\"></i>\n",
       " <i class=\"icon-star\"></i>\n",
       " <i class=\"icon-star\"></i>\n",
       " <i class=\"icon-star\"></i>\n",
       " <i class=\"icon-star\"></i>\n",
       " </p>\n",
       " <h3><a href=\"untitled-collection-sabbath-poems-2014_953/index.html\" title=\"Untitled Collection: Sabbath Poems 2014\">Untitled Collection: Sabbath Poems ...</a></h3>\n",
       " <div class=\"product_price\">\n",
       " <p class=\"price_color\">£14.27</p>\n",
       " <p class=\"instock availability\">\n",
       " <i class=\"icon-ok\"></i>\n",
       "     \n",
       "         In stock\n",
       "     \n",
       " </p>\n",
       " <form>\n",
       " <button class=\"btn btn-primary btn-block\" data-loading-text=\"Adding...\" type=\"submit\">Add to basket</button>\n",
       " </form>\n",
       " </div>\n",
       " </article>,\n",
       " <article class=\"product_pod\">\n",
       " <div class=\"image_container\">\n",
       " <a href=\"unseen-city-the-majesty-of-pigeons-the-discreet-charm-of-snails-other-wonders-of-the-urban-wilderness_952/index.html\"><img alt=\"Unseen City: The Majesty of Pigeons, the Discreet Charm of Snails &amp; Other Wonders of the Urban Wilderness\" class=\"thumbnail\" src=\"../media/cache/41/a2/41a20f35adf0caea24f208dc01ad7681.jpg\"/></a>\n",
       " </div>\n",
       " <p class=\"star-rating Four\">\n",
       " <i class=\"icon-star\"></i>\n",
       " <i class=\"icon-star\"></i>\n",
       " <i class=\"icon-star\"></i>\n",
       " <i class=\"icon-star\"></i>\n",
       " <i class=\"icon-star\"></i>\n",
       " </p>\n",
       " <h3><a href=\"unseen-city-the-majesty-of-pigeons-the-discreet-charm-of-snails-other-wonders-of-the-urban-wilderness_952/index.html\" title=\"Unseen City: The Majesty of Pigeons, the Discreet Charm of Snails &amp; Other Wonders of the Urban Wilderness\">Unseen City: The Majesty ...</a></h3>\n",
       " <div class=\"product_price\">\n",
       " <p class=\"price_color\">£44.18</p>\n",
       " <p class=\"instock availability\">\n",
       " <i class=\"icon-ok\"></i>\n",
       "     \n",
       "         In stock\n",
       "     \n",
       " </p>\n",
       " <form>\n",
       " <button class=\"btn btn-primary btn-block\" data-loading-text=\"Adding...\" type=\"submit\">Add to basket</button>\n",
       " </form>\n",
       " </div>\n",
       " </article>,\n",
       " <article class=\"product_pod\">\n",
       " <div class=\"image_container\">\n",
       " <a href=\"unicorn-tracks_951/index.html\"><img alt=\"Unicorn Tracks\" class=\"thumbnail\" src=\"../media/cache/76/8e/768ea5924ac1ef6297c2be9959c796c2.jpg\"/></a>\n",
       " </div>\n",
       " <p class=\"star-rating Three\">\n",
       " <i class=\"icon-star\"></i>\n",
       " <i class=\"icon-star\"></i>\n",
       " <i class=\"icon-star\"></i>\n",
       " <i class=\"icon-star\"></i>\n",
       " <i class=\"icon-star\"></i>\n",
       " </p>\n",
       " <h3><a href=\"unicorn-tracks_951/index.html\" title=\"Unicorn Tracks\">Unicorn Tracks</a></h3>\n",
       " <div class=\"product_price\">\n",
       " <p class=\"price_color\">£18.78</p>\n",
       " <p class=\"instock availability\">\n",
       " <i class=\"icon-ok\"></i>\n",
       "     \n",
       "         In stock\n",
       "     \n",
       " </p>\n",
       " <form>\n",
       " <button class=\"btn btn-primary btn-block\" data-loading-text=\"Adding...\" type=\"submit\">Add to basket</button>\n",
       " </form>\n",
       " </div>\n",
       " </article>,\n",
       " <article class=\"product_pod\">\n",
       " <div class=\"image_container\">\n",
       " <a href=\"unbound-how-eight-technologies-made-us-human-transformed-society-and-brought-our-world-to-the-brink_950/index.html\"><img alt=\"Unbound: How Eight Technologies Made Us Human, Transformed Society, and Brought Our World to the Brink\" class=\"thumbnail\" src=\"../media/cache/4a/3b/4a3b055f9e378a95fedbef55e7bab7ce.jpg\"/></a>\n",
       " </div>\n",
       " <p class=\"star-rating One\">\n",
       " <i class=\"icon-star\"></i>\n",
       " <i class=\"icon-star\"></i>\n",
       " <i class=\"icon-star\"></i>\n",
       " <i class=\"icon-star\"></i>\n",
       " <i class=\"icon-star\"></i>\n",
       " </p>\n",
       " <h3><a href=\"unbound-how-eight-technologies-made-us-human-transformed-society-and-brought-our-world-to-the-brink_950/index.html\" title=\"Unbound: How Eight Technologies Made Us Human, Transformed Society, and Brought Our World to the Brink\">Unbound: How Eight Technologies ...</a></h3>\n",
       " <div class=\"product_price\">\n",
       " <p class=\"price_color\">£25.52</p>\n",
       " <p class=\"instock availability\">\n",
       " <i class=\"icon-ok\"></i>\n",
       "     \n",
       "         In stock\n",
       "     \n",
       " </p>\n",
       " <form>\n",
       " <button class=\"btn btn-primary btn-block\" data-loading-text=\"Adding...\" type=\"submit\">Add to basket</button>\n",
       " </form>\n",
       " </div>\n",
       " </article>,\n",
       " <article class=\"product_pod\">\n",
       " <div class=\"image_container\">\n",
       " <a href=\"tsubasa-world-chronicle-2-tsubasa-world-chronicle-2_949/index.html\"><img alt=\"Tsubasa: WoRLD CHRoNiCLE 2 (Tsubasa WoRLD CHRoNiCLE #2)\" class=\"thumbnail\" src=\"../media/cache/36/df/36df4caaf1420b1183a8235355d39e69.jpg\"/></a>\n",
       " </div>\n",
       " <p class=\"star-rating One\">\n",
       " <i class=\"icon-star\"></i>\n",
       " <i class=\"icon-star\"></i>\n",
       " <i class=\"icon-star\"></i>\n",
       " <i class=\"icon-star\"></i>\n",
       " <i class=\"icon-star\"></i>\n",
       " </p>\n",
       " <h3><a href=\"tsubasa-world-chronicle-2-tsubasa-world-chronicle-2_949/index.html\" title=\"Tsubasa: WoRLD CHRoNiCLE 2 (Tsubasa WoRLD CHRoNiCLE #2)\">Tsubasa: WoRLD CHRoNiCLE 2 ...</a></h3>\n",
       " <div class=\"product_price\">\n",
       " <p class=\"price_color\">£16.28</p>\n",
       " <p class=\"instock availability\">\n",
       " <i class=\"icon-ok\"></i>\n",
       "     \n",
       "         In stock\n",
       "     \n",
       " </p>\n",
       " <form>\n",
       " <button class=\"btn btn-primary btn-block\" data-loading-text=\"Adding...\" type=\"submit\">Add to basket</button>\n",
       " </form>\n",
       " </div>\n",
       " </article>,\n",
       " <article class=\"product_pod\">\n",
       " <div class=\"image_container\">\n",
       " <a href=\"throwing-rocks-at-the-google-bus-how-growth-became-the-enemy-of-prosperity_948/index.html\"><img alt=\"Throwing Rocks at the Google Bus: How Growth Became the Enemy of Prosperity\" class=\"thumbnail\" src=\"../media/cache/03/86/038650c9e7517b4baf2a423cd8eed38f.jpg\"/></a>\n",
       " </div>\n",
       " <p class=\"star-rating Three\">\n",
       " <i class=\"icon-star\"></i>\n",
       " <i class=\"icon-star\"></i>\n",
       " <i class=\"icon-star\"></i>\n",
       " <i class=\"icon-star\"></i>\n",
       " <i class=\"icon-star\"></i>\n",
       " </p>\n",
       " <h3><a href=\"throwing-rocks-at-the-google-bus-how-growth-became-the-enemy-of-prosperity_948/index.html\" title=\"Throwing Rocks at the Google Bus: How Growth Became the Enemy of Prosperity\">Throwing Rocks at the ...</a></h3>\n",
       " <div class=\"product_price\">\n",
       " <p class=\"price_color\">£31.12</p>\n",
       " <p class=\"instock availability\">\n",
       " <i class=\"icon-ok\"></i>\n",
       "     \n",
       "         In stock\n",
       "     \n",
       " </p>\n",
       " <form>\n",
       " <button class=\"btn btn-primary btn-block\" data-loading-text=\"Adding...\" type=\"submit\">Add to basket</button>\n",
       " </form>\n",
       " </div>\n",
       " </article>,\n",
       " <article class=\"product_pod\">\n",
       " <div class=\"image_container\">\n",
       " <a href=\"this-one-summer_947/index.html\"><img alt=\"This One Summer\" class=\"thumbnail\" src=\"../media/cache/c4/dd/c4ddd9ced89966b0602ec85e00cd5b61.jpg\"/></a>\n",
       " </div>\n",
       " <p class=\"star-rating Four\">\n",
       " <i class=\"icon-star\"></i>\n",
       " <i class=\"icon-star\"></i>\n",
       " <i class=\"icon-star\"></i>\n",
       " <i class=\"icon-star\"></i>\n",
       " <i class=\"icon-star\"></i>\n",
       " </p>\n",
       " <h3><a href=\"this-one-summer_947/index.html\" title=\"This One Summer\">This One Summer</a></h3>\n",
       " <div class=\"product_price\">\n",
       " <p class=\"price_color\">£19.49</p>\n",
       " <p class=\"instock availability\">\n",
       " <i class=\"icon-ok\"></i>\n",
       "     \n",
       "         In stock\n",
       "     \n",
       " </p>\n",
       " <form>\n",
       " <button class=\"btn btn-primary btn-block\" data-loading-text=\"Adding...\" type=\"submit\">Add to basket</button>\n",
       " </form>\n",
       " </div>\n",
       " </article>,\n",
       " <article class=\"product_pod\">\n",
       " <div class=\"image_container\">\n",
       " <a href=\"thirst_946/index.html\"><img alt=\"Thirst\" class=\"thumbnail\" src=\"../media/cache/c4/0a/c40a64f59e7487b1a80a049f6ceb2ba5.jpg\"/></a>\n",
       " </div>\n",
       " <p class=\"star-rating Five\">\n",
       " <i class=\"icon-star\"></i>\n",
       " <i class=\"icon-star\"></i>\n",
       " <i class=\"icon-star\"></i>\n",
       " <i class=\"icon-star\"></i>\n",
       " <i class=\"icon-star\"></i>\n",
       " </p>\n",
       " <h3><a href=\"thirst_946/index.html\" title=\"Thirst\">Thirst</a></h3>\n",
       " <div class=\"product_price\">\n",
       " <p class=\"price_color\">£17.27</p>\n",
       " <p class=\"instock availability\">\n",
       " <i class=\"icon-ok\"></i>\n",
       "     \n",
       "         In stock\n",
       "     \n",
       " </p>\n",
       " <form>\n",
       " <button class=\"btn btn-primary btn-block\" data-loading-text=\"Adding...\" type=\"submit\">Add to basket</button>\n",
       " </form>\n",
       " </div>\n",
       " </article>,\n",
       " <article class=\"product_pod\">\n",
       " <div class=\"image_container\">\n",
       " <a href=\"the-torch-is-passed-a-harding-family-story_945/index.html\"><img alt=\"The Torch Is Passed: A Harding Family Story\" class=\"thumbnail\" src=\"../media/cache/33/e5/33e507172541628acfd421503196b578.jpg\"/></a>\n",
       " </div>\n",
       " <p class=\"star-rating One\">\n",
       " <i class=\"icon-star\"></i>\n",
       " <i class=\"icon-star\"></i>\n",
       " <i class=\"icon-star\"></i>\n",
       " <i class=\"icon-star\"></i>\n",
       " <i class=\"icon-star\"></i>\n",
       " </p>\n",
       " <h3><a href=\"the-torch-is-passed-a-harding-family-story_945/index.html\" title=\"The Torch Is Passed: A Harding Family Story\">The Torch Is Passed: ...</a></h3>\n",
       " <div class=\"product_price\">\n",
       " <p class=\"price_color\">£19.09</p>\n",
       " <p class=\"instock availability\">\n",
       " <i class=\"icon-ok\"></i>\n",
       "     \n",
       "         In stock\n",
       "     \n",
       " </p>\n",
       " <form>\n",
       " <button class=\"btn btn-primary btn-block\" data-loading-text=\"Adding...\" type=\"submit\">Add to basket</button>\n",
       " </form>\n",
       " </div>\n",
       " </article>,\n",
       " <article class=\"product_pod\">\n",
       " <div class=\"image_container\">\n",
       " <a href=\"the-secret-of-dreadwillow-carse_944/index.html\"><img alt=\"The Secret of Dreadwillow Carse\" class=\"thumbnail\" src=\"../media/cache/c4/a2/c4a2a1a026c67bcceb5a411c724d7d0c.jpg\"/></a>\n",
       " </div>\n",
       " <p class=\"star-rating One\">\n",
       " <i class=\"icon-star\"></i>\n",
       " <i class=\"icon-star\"></i>\n",
       " <i class=\"icon-star\"></i>\n",
       " <i class=\"icon-star\"></i>\n",
       " <i class=\"icon-star\"></i>\n",
       " </p>\n",
       " <h3><a href=\"the-secret-of-dreadwillow-carse_944/index.html\" title=\"The Secret of Dreadwillow Carse\">The Secret of Dreadwillow ...</a></h3>\n",
       " <div class=\"product_price\">\n",
       " <p class=\"price_color\">£56.13</p>\n",
       " <p class=\"instock availability\">\n",
       " <i class=\"icon-ok\"></i>\n",
       "     \n",
       "         In stock\n",
       "     \n",
       " </p>\n",
       " <form>\n",
       " <button class=\"btn btn-primary btn-block\" data-loading-text=\"Adding...\" type=\"submit\">Add to basket</button>\n",
       " </form>\n",
       " </div>\n",
       " </article>,\n",
       " <article class=\"product_pod\">\n",
       " <div class=\"image_container\">\n",
       " <a href=\"the-pioneer-woman-cooks-dinnertime-comfort-classics-freezer-food-16-minute-meals-and-other-delicious-ways-to-solve-supper_943/index.html\"><img alt=\"The Pioneer Woman Cooks: Dinnertime: Comfort Classics, Freezer Food, 16-Minute Meals, and Other Delicious Ways to Solve Supper!\" class=\"thumbnail\" src=\"../media/cache/b7/f4/b7f4843dbe062d44be1ffcfa16b2faa4.jpg\"/></a>\n",
       " </div>\n",
       " <p class=\"star-rating One\">\n",
       " <i class=\"icon-star\"></i>\n",
       " <i class=\"icon-star\"></i>\n",
       " <i class=\"icon-star\"></i>\n",
       " <i class=\"icon-star\"></i>\n",
       " <i class=\"icon-star\"></i>\n",
       " </p>\n",
       " <h3><a href=\"the-pioneer-woman-cooks-dinnertime-comfort-classics-freezer-food-16-minute-meals-and-other-delicious-ways-to-solve-supper_943/index.html\" title=\"The Pioneer Woman Cooks: Dinnertime: Comfort Classics, Freezer Food, 16-Minute Meals, and Other Delicious Ways to Solve Supper!\">The Pioneer Woman Cooks: ...</a></h3>\n",
       " <div class=\"product_price\">\n",
       " <p class=\"price_color\">£56.41</p>\n",
       " <p class=\"instock availability\">\n",
       " <i class=\"icon-ok\"></i>\n",
       "     \n",
       "         In stock\n",
       "     \n",
       " </p>\n",
       " <form>\n",
       " <button class=\"btn btn-primary btn-block\" data-loading-text=\"Adding...\" type=\"submit\">Add to basket</button>\n",
       " </form>\n",
       " </div>\n",
       " </article>,\n",
       " <article class=\"product_pod\">\n",
       " <div class=\"image_container\">\n",
       " <a href=\"the-past-never-ends_942/index.html\"><img alt=\"The Past Never Ends\" class=\"thumbnail\" src=\"../media/cache/89/b8/89b850edb01851a91f64ba114b96acb6.jpg\"/></a>\n",
       " </div>\n",
       " <p class=\"star-rating Four\">\n",
       " <i class=\"icon-star\"></i>\n",
       " <i class=\"icon-star\"></i>\n",
       " <i class=\"icon-star\"></i>\n",
       " <i class=\"icon-star\"></i>\n",
       " <i class=\"icon-star\"></i>\n",
       " </p>\n",
       " <h3><a href=\"the-past-never-ends_942/index.html\" title=\"The Past Never Ends\">The Past Never Ends</a></h3>\n",
       " <div class=\"product_price\">\n",
       " <p class=\"price_color\">£56.50</p>\n",
       " <p class=\"instock availability\">\n",
       " <i class=\"icon-ok\"></i>\n",
       "     \n",
       "         In stock\n",
       "     \n",
       " </p>\n",
       " <form>\n",
       " <button class=\"btn btn-primary btn-block\" data-loading-text=\"Adding...\" type=\"submit\">Add to basket</button>\n",
       " </form>\n",
       " </div>\n",
       " </article>,\n",
       " <article class=\"product_pod\">\n",
       " <div class=\"image_container\">\n",
       " <a href=\"the-natural-history-of-us-the-fine-art-of-pretending-2_941/index.html\"><img alt=\"The Natural History of Us (The Fine Art of Pretending #2)\" class=\"thumbnail\" src=\"../media/cache/5d/7f/5d7f496cdf5e5962a73ecdcc1505c1d5.jpg\"/></a>\n",
       " </div>\n",
       " <p class=\"star-rating Three\">\n",
       " <i class=\"icon-star\"></i>\n",
       " <i class=\"icon-star\"></i>\n",
       " <i class=\"icon-star\"></i>\n",
       " <i class=\"icon-star\"></i>\n",
       " <i class=\"icon-star\"></i>\n",
       " </p>\n",
       " <h3><a href=\"the-natural-history-of-us-the-fine-art-of-pretending-2_941/index.html\" title=\"The Natural History of Us (The Fine Art of Pretending #2)\">The Natural History of ...</a></h3>\n",
       " <div class=\"product_price\">\n",
       " <p class=\"price_color\">£45.22</p>\n",
       " <p class=\"instock availability\">\n",
       " <i class=\"icon-ok\"></i>\n",
       "     \n",
       "         In stock\n",
       "     \n",
       " </p>\n",
       " <form>\n",
       " <button class=\"btn btn-primary btn-block\" data-loading-text=\"Adding...\" type=\"submit\">Add to basket</button>\n",
       " </form>\n",
       " </div>\n",
       " </article>]"
      ]
     },
     "execution_count": 67,
     "metadata": {},
     "output_type": "execute_result"
    }
   ],
   "source": [
    "book_html=soup.find_all(\"article\", class_=\"product_pod\")\n",
    "book_html"
   ]
  },
  {
   "cell_type": "markdown",
   "id": "7c96efcb",
   "metadata": {},
   "source": [
    "## Parsing _one_ book"
   ]
  },
  {
   "cell_type": "code",
   "execution_count": 31,
   "id": "4c9e27e0",
   "metadata": {
    "ExecuteTime": {
     "end_time": "2022-04-19T12:35:16.254228Z",
     "start_time": "2022-04-19T12:35:16.246897Z"
    }
   },
   "outputs": [
    {
     "data": {
      "text/plain": [
       "'A Light in the Attic'"
      ]
     },
     "execution_count": 31,
     "metadata": {},
     "output_type": "execute_result"
    }
   ],
   "source": [
    "book_title=book_html[0].find(\"h3\").find(\"a\").attrs[\"title\"]\n",
    "book_title"
   ]
  },
  {
   "cell_type": "code",
   "execution_count": 30,
   "id": "0bac1aa5",
   "metadata": {
    "ExecuteTime": {
     "end_time": "2022-04-19T12:35:10.651891Z",
     "start_time": "2022-04-19T12:35:10.644719Z"
    }
   },
   "outputs": [
    {
     "data": {
      "text/plain": [
       "51.77"
      ]
     },
     "execution_count": 30,
     "metadata": {},
     "output_type": "execute_result"
    }
   ],
   "source": [
    "book_price=float(book_html[0].find(\"p\", class_=\"price_color\").string[1:])\n",
    "book_price"
   ]
  },
  {
   "cell_type": "code",
   "execution_count": 34,
   "id": "f134b9b6",
   "metadata": {
    "ExecuteTime": {
     "end_time": "2022-04-19T12:41:07.881102Z",
     "start_time": "2022-04-19T12:41:07.871567Z"
    }
   },
   "outputs": [
    {
     "data": {
      "text/plain": [
       "<p class=\"star-rating Three\">\n",
       "<i class=\"icon-star\"></i>\n",
       "<i class=\"icon-star\"></i>\n",
       "<i class=\"icon-star\"></i>\n",
       "<i class=\"icon-star\"></i>\n",
       "<i class=\"icon-star\"></i>\n",
       "</p>"
      ]
     },
     "execution_count": 34,
     "metadata": {},
     "output_type": "execute_result"
    }
   ],
   "source": [
    "book_stars_html = book_html[0].find(\"p\", class_=\"star-rating\")\n",
    "book_stars_html"
   ]
  },
  {
   "cell_type": "code",
   "execution_count": 35,
   "id": "ede44846",
   "metadata": {
    "ExecuteTime": {
     "end_time": "2022-04-19T12:41:28.715928Z",
     "start_time": "2022-04-19T12:41:28.702502Z"
    }
   },
   "outputs": [
    {
     "data": {
      "text/plain": [
       "['star-rating', 'Three']"
      ]
     },
     "execution_count": 35,
     "metadata": {},
     "output_type": "execute_result"
    }
   ],
   "source": [
    "book_stars_html.attrs['class']"
   ]
  },
  {
   "cell_type": "code",
   "execution_count": 36,
   "id": "9e36e336",
   "metadata": {
    "ExecuteTime": {
     "end_time": "2022-04-19T12:55:48.467591Z",
     "start_time": "2022-04-19T12:55:48.463288Z"
    }
   },
   "outputs": [],
   "source": [
    "def parse_rating(rating_class):\n",
    "    # \"One\" => 1\n",
    "    # \"Two\" => 2\n",
    "    # \"Three\" => 3\n",
    "    # \"Four\" => 4\n",
    "    # \"Five\" => 5\n",
    "    if rating_class[1]==\"One\":\n",
    "        return 1\n",
    "    elif rating_class[1]==\"Two\":\n",
    "        return 2\n",
    "    elif rating_class[1]==\"Three\":\n",
    "        return 3\n",
    "    elif rating_class[1]==\"Four\":\n",
    "        return 4\n",
    "    elif rating_class[1]==\"Five\":\n",
    "        return 5\n",
    "    return 0"
   ]
  },
  {
   "cell_type": "code",
   "execution_count": 39,
   "id": "fc338d47",
   "metadata": {
    "ExecuteTime": {
     "end_time": "2022-04-19T13:03:57.383561Z",
     "start_time": "2022-04-19T13:03:57.377288Z"
    }
   },
   "outputs": [
    {
     "data": {
      "text/plain": [
       "3"
      ]
     },
     "execution_count": 39,
     "metadata": {},
     "output_type": "execute_result"
    }
   ],
   "source": [
    "book_rating = parse_rating(book_html[0].find(\"p\", class_=\"star-rating\").attrs['class'])\n",
    "book_rating"
   ]
  },
  {
   "cell_type": "markdown",
   "id": "e0606369",
   "metadata": {},
   "source": [
    "## Parsing _all_ books"
   ]
  },
  {
   "cell_type": "code",
   "execution_count": 45,
   "id": "d0847511",
   "metadata": {
    "ExecuteTime": {
     "end_time": "2022-04-19T13:14:04.322640Z",
     "start_time": "2022-04-19T13:14:04.312105Z"
    }
   },
   "outputs": [],
   "source": [
    "books_dict = { 'Title': [], 'Price': [], 'Rating': [] }\n",
    "for book in book_html:\n",
    "    books_dict[\"Title\"].append(book.find(\"h3\").find(\"a\").attrs[\"title\"])\n",
    "    books_dict[\"Price\"].append(float(book.find(\"p\", class_=\"price_color\").string[1:]))\n",
    "    books_dict[\"Rating\"].append(parse_rating(book.find(\"p\", class_=\"star-rating\").attrs['class']))"
   ]
  },
  {
   "cell_type": "code",
   "execution_count": 46,
   "id": "a532fbcf",
   "metadata": {
    "ExecuteTime": {
     "end_time": "2022-04-19T13:14:35.253421Z",
     "start_time": "2022-04-19T13:14:35.246558Z"
    }
   },
   "outputs": [
    {
     "data": {
      "text/plain": [
       "{'Title': ['A Light in the Attic',\n",
       "  'Tipping the Velvet',\n",
       "  'Soumission',\n",
       "  'Sharp Objects',\n",
       "  'Sapiens: A Brief History of Humankind',\n",
       "  'The Requiem Red',\n",
       "  'The Dirty Little Secrets of Getting Your Dream Job',\n",
       "  'The Coming Woman: A Novel Based on the Life of the Infamous Feminist, Victoria Woodhull',\n",
       "  'The Boys in the Boat: Nine Americans and Their Epic Quest for Gold at the 1936 Berlin Olympics',\n",
       "  'The Black Maria',\n",
       "  'Starving Hearts (Triangular Trade Trilogy, #1)',\n",
       "  \"Shakespeare's Sonnets\",\n",
       "  'Set Me Free',\n",
       "  \"Scott Pilgrim's Precious Little Life (Scott Pilgrim #1)\",\n",
       "  'Rip it Up and Start Again',\n",
       "  'Our Band Could Be Your Life: Scenes from the American Indie Underground, 1981-1991',\n",
       "  'Olio',\n",
       "  'Mesaerion: The Best Science Fiction Stories 1800-1849',\n",
       "  'Libertarianism for Beginners',\n",
       "  \"It's Only the Himalayas\"],\n",
       " 'Price': [51.77,\n",
       "  53.74,\n",
       "  50.1,\n",
       "  47.82,\n",
       "  54.23,\n",
       "  22.65,\n",
       "  33.34,\n",
       "  17.93,\n",
       "  22.6,\n",
       "  52.15,\n",
       "  13.99,\n",
       "  20.66,\n",
       "  17.46,\n",
       "  52.29,\n",
       "  35.02,\n",
       "  57.25,\n",
       "  23.88,\n",
       "  37.59,\n",
       "  51.33,\n",
       "  45.17],\n",
       " 'Rating': [3, 1, 1, 4, 5, 1, 4, 3, 4, 1, 2, 4, 5, 5, 5, 3, 1, 1, 2, 2]}"
      ]
     },
     "execution_count": 46,
     "metadata": {},
     "output_type": "execute_result"
    }
   ],
   "source": [
    "books_dict\n"
   ]
  },
  {
   "cell_type": "code",
   "execution_count": 48,
   "id": "232bf934",
   "metadata": {
    "ExecuteTime": {
     "end_time": "2022-04-19T13:15:35.800298Z",
     "start_time": "2022-04-19T13:15:35.794367Z"
    }
   },
   "outputs": [
    {
     "data": {
      "text/plain": [
       "3"
      ]
     },
     "execution_count": 48,
     "metadata": {},
     "output_type": "execute_result"
    }
   ],
   "source": [
    "len(books_dict)         # You should have 3 key:value pairs\n",
    "#len(books_dict[\"Title\"]) # Each value should contain 20 elements from the 20 books, as many as on the web page!"
   ]
  },
  {
   "cell_type": "markdown",
   "id": "c6bcba56",
   "metadata": {},
   "source": [
    "## Loading data from panda"
   ]
  },
  {
   "cell_type": "code",
   "execution_count": 50,
   "id": "5e819dad",
   "metadata": {
    "ExecuteTime": {
     "end_time": "2022-04-19T13:17:11.428525Z",
     "start_time": "2022-04-19T13:17:11.395879Z"
    }
   },
   "outputs": [
    {
     "data": {
      "text/html": [
       "<div>\n",
       "<style scoped>\n",
       "    .dataframe tbody tr th:only-of-type {\n",
       "        vertical-align: middle;\n",
       "    }\n",
       "\n",
       "    .dataframe tbody tr th {\n",
       "        vertical-align: top;\n",
       "    }\n",
       "\n",
       "    .dataframe thead th {\n",
       "        text-align: right;\n",
       "    }\n",
       "</style>\n",
       "<table border=\"1\" class=\"dataframe\">\n",
       "  <thead>\n",
       "    <tr style=\"text-align: right;\">\n",
       "      <th></th>\n",
       "      <th>Title</th>\n",
       "      <th>Price</th>\n",
       "      <th>Rating</th>\n",
       "    </tr>\n",
       "  </thead>\n",
       "  <tbody>\n",
       "    <tr>\n",
       "      <th>0</th>\n",
       "      <td>A Light in the Attic</td>\n",
       "      <td>51.77</td>\n",
       "      <td>3</td>\n",
       "    </tr>\n",
       "    <tr>\n",
       "      <th>1</th>\n",
       "      <td>Tipping the Velvet</td>\n",
       "      <td>53.74</td>\n",
       "      <td>1</td>\n",
       "    </tr>\n",
       "    <tr>\n",
       "      <th>2</th>\n",
       "      <td>Soumission</td>\n",
       "      <td>50.10</td>\n",
       "      <td>1</td>\n",
       "    </tr>\n",
       "    <tr>\n",
       "      <th>3</th>\n",
       "      <td>Sharp Objects</td>\n",
       "      <td>47.82</td>\n",
       "      <td>4</td>\n",
       "    </tr>\n",
       "    <tr>\n",
       "      <th>4</th>\n",
       "      <td>Sapiens: A Brief History of Humankind</td>\n",
       "      <td>54.23</td>\n",
       "      <td>5</td>\n",
       "    </tr>\n",
       "    <tr>\n",
       "      <th>5</th>\n",
       "      <td>The Requiem Red</td>\n",
       "      <td>22.65</td>\n",
       "      <td>1</td>\n",
       "    </tr>\n",
       "    <tr>\n",
       "      <th>6</th>\n",
       "      <td>The Dirty Little Secrets of Getting Your Dream...</td>\n",
       "      <td>33.34</td>\n",
       "      <td>4</td>\n",
       "    </tr>\n",
       "    <tr>\n",
       "      <th>7</th>\n",
       "      <td>The Coming Woman: A Novel Based on the Life of...</td>\n",
       "      <td>17.93</td>\n",
       "      <td>3</td>\n",
       "    </tr>\n",
       "    <tr>\n",
       "      <th>8</th>\n",
       "      <td>The Boys in the Boat: Nine Americans and Their...</td>\n",
       "      <td>22.60</td>\n",
       "      <td>4</td>\n",
       "    </tr>\n",
       "    <tr>\n",
       "      <th>9</th>\n",
       "      <td>The Black Maria</td>\n",
       "      <td>52.15</td>\n",
       "      <td>1</td>\n",
       "    </tr>\n",
       "    <tr>\n",
       "      <th>10</th>\n",
       "      <td>Starving Hearts (Triangular Trade Trilogy, #1)</td>\n",
       "      <td>13.99</td>\n",
       "      <td>2</td>\n",
       "    </tr>\n",
       "    <tr>\n",
       "      <th>11</th>\n",
       "      <td>Shakespeare's Sonnets</td>\n",
       "      <td>20.66</td>\n",
       "      <td>4</td>\n",
       "    </tr>\n",
       "    <tr>\n",
       "      <th>12</th>\n",
       "      <td>Set Me Free</td>\n",
       "      <td>17.46</td>\n",
       "      <td>5</td>\n",
       "    </tr>\n",
       "    <tr>\n",
       "      <th>13</th>\n",
       "      <td>Scott Pilgrim's Precious Little Life (Scott Pi...</td>\n",
       "      <td>52.29</td>\n",
       "      <td>5</td>\n",
       "    </tr>\n",
       "    <tr>\n",
       "      <th>14</th>\n",
       "      <td>Rip it Up and Start Again</td>\n",
       "      <td>35.02</td>\n",
       "      <td>5</td>\n",
       "    </tr>\n",
       "    <tr>\n",
       "      <th>15</th>\n",
       "      <td>Our Band Could Be Your Life: Scenes from the A...</td>\n",
       "      <td>57.25</td>\n",
       "      <td>3</td>\n",
       "    </tr>\n",
       "    <tr>\n",
       "      <th>16</th>\n",
       "      <td>Olio</td>\n",
       "      <td>23.88</td>\n",
       "      <td>1</td>\n",
       "    </tr>\n",
       "    <tr>\n",
       "      <th>17</th>\n",
       "      <td>Mesaerion: The Best Science Fiction Stories 18...</td>\n",
       "      <td>37.59</td>\n",
       "      <td>1</td>\n",
       "    </tr>\n",
       "    <tr>\n",
       "      <th>18</th>\n",
       "      <td>Libertarianism for Beginners</td>\n",
       "      <td>51.33</td>\n",
       "      <td>2</td>\n",
       "    </tr>\n",
       "    <tr>\n",
       "      <th>19</th>\n",
       "      <td>It's Only the Himalayas</td>\n",
       "      <td>45.17</td>\n",
       "      <td>2</td>\n",
       "    </tr>\n",
       "  </tbody>\n",
       "</table>\n",
       "</div>"
      ],
      "text/plain": [
       "                                                Title  Price  Rating\n",
       "0                                A Light in the Attic  51.77       3\n",
       "1                                  Tipping the Velvet  53.74       1\n",
       "2                                          Soumission  50.10       1\n",
       "3                                       Sharp Objects  47.82       4\n",
       "4               Sapiens: A Brief History of Humankind  54.23       5\n",
       "5                                     The Requiem Red  22.65       1\n",
       "6   The Dirty Little Secrets of Getting Your Dream...  33.34       4\n",
       "7   The Coming Woman: A Novel Based on the Life of...  17.93       3\n",
       "8   The Boys in the Boat: Nine Americans and Their...  22.60       4\n",
       "9                                     The Black Maria  52.15       1\n",
       "10     Starving Hearts (Triangular Trade Trilogy, #1)  13.99       2\n",
       "11                              Shakespeare's Sonnets  20.66       4\n",
       "12                                        Set Me Free  17.46       5\n",
       "13  Scott Pilgrim's Precious Little Life (Scott Pi...  52.29       5\n",
       "14                          Rip it Up and Start Again  35.02       5\n",
       "15  Our Band Could Be Your Life: Scenes from the A...  57.25       3\n",
       "16                                               Olio  23.88       1\n",
       "17  Mesaerion: The Best Science Fiction Stories 18...  37.59       1\n",
       "18                       Libertarianism for Beginners  51.33       2\n",
       "19                            It's Only the Himalayas  45.17       2"
      ]
     },
     "execution_count": 50,
     "metadata": {},
     "output_type": "execute_result"
    }
   ],
   "source": [
    "books_df = pd.DataFrame.from_dict(books_dict)\n",
    "books_df"
   ]
  },
  {
   "cell_type": "code",
   "execution_count": 51,
   "id": "bb611772",
   "metadata": {
    "ExecuteTime": {
     "end_time": "2022-04-19T13:17:50.110346Z",
     "start_time": "2022-04-19T13:17:49.913230Z"
    }
   },
   "outputs": [
    {
     "data": {
      "text/plain": [
       "<AxesSubplot:xlabel='Rating'>"
      ]
     },
     "execution_count": 51,
     "metadata": {},
     "output_type": "execute_result"
    },
    {
     "data": {
      "image/png": "[encoded data removed]",
      "text/plain": [
       "<Figure size 432x288 with 1 Axes>"
      ]
     },
     "metadata": {
      "needs_background": "light"
     },
     "output_type": "display_data"
    }
   ],
   "source": [
    "books_df.groupby(\"Rating\").count()[\"Title\"].plot(kind=\"bar\")"
   ]
  },
  {
   "cell_type": "code",
   "execution_count": 52,
   "id": "797ca07b",
   "metadata": {
    "ExecuteTime": {
     "end_time": "2022-04-19T13:18:14.505633Z",
     "start_time": "2022-04-19T13:18:12.945708Z"
    }
   },
   "outputs": [
    {
     "name": "stdout",
     "output_type": "stream",
     "text": [
      "\u001b[1m============================= test session starts ==============================\u001b[0m\n",
      "platform darwin -- Python 3.8.13, pytest-6.2.5, py-1.11.0, pluggy-1.0.0 -- /Users/louisfoutrel/.pyenv/versions/lewagon/bin/python3\n",
      "cachedir: .pytest_cache\n",
      "rootdir: /Users/louisfoutrel/code/louisFtrl/data-challenges/02-Data-Toolkit/02-Data-Sourcing/02-Scraping\n",
      "plugins: anyio-3.4.0\n",
      "\u001b[1mcollecting ... \u001b[0mcollected 6 items\n",
      "\n",
      "tests/test_books.py::TestBooks::test_books_df_columns_name \u001b[32mPASSED\u001b[0m\u001b[32m        [ 16%]\u001b[0m\n",
      "tests/test_books.py::TestBooks::test_books_df_columns_size \u001b[32mPASSED\u001b[0m\u001b[32m        [ 33%]\u001b[0m\n",
      "tests/test_books.py::TestBooks::test_books_dict_id_defined \u001b[32mPASSED\u001b[0m\u001b[32m        [ 50%]\u001b[0m\n",
      "tests/test_books.py::TestBooks::test_first_book_price \u001b[32mPASSED\u001b[0m\u001b[32m             [ 66%]\u001b[0m\n",
      "tests/test_books.py::TestBooks::test_first_book_rating \u001b[32mPASSED\u001b[0m\u001b[32m            [ 83%]\u001b[0m\n",
      "tests/test_books.py::TestBooks::test_first_book_title \u001b[32mPASSED\u001b[0m\u001b[32m             [100%]\u001b[0m\n",
      "\n",
      "\u001b[32m============================== \u001b[32m\u001b[1m6 passed\u001b[0m\u001b[32m in 0.77s\u001b[0m\u001b[32m ===============================\u001b[0m\n",
      "\n",
      "\n",
      "💯 You can commit your code:\n",
      "\n",
      "\u001b[1;32mgit\u001b[39m add tests/books.pickle\n",
      "\n",
      "\u001b[32mgit\u001b[39m commit -m \u001b[33m'Completed books step'\u001b[39m\n",
      "\n",
      "\u001b[32mgit\u001b[39m push origin master\n"
     ]
    }
   ],
   "source": [
    "from nbresult import ChallengeResult\n",
    "\n",
    "result = ChallengeResult('books',\n",
    "    books_dict=books_dict,\n",
    "    columns=books_df.columns,\n",
    "    title=str(books_df.loc[0,'Title']),\n",
    "    price=books_df.loc[0,'Price'],\n",
    "    rating=books_df.loc[0,'Rating']\n",
    ")\n",
    "result.write()\n",
    "print(result.check())"
   ]
  },
  {
   "cell_type": "markdown",
   "id": "a7778c31",
   "metadata": {},
   "source": [
    "## all books"
   ]
  },
  {
   "cell_type": "code",
   "execution_count": 62,
   "id": "1634da20",
   "metadata": {
    "ExecuteTime": {
     "end_time": "2022-04-19T13:38:54.502856Z",
     "start_time": "2022-04-19T13:38:52.380352Z"
    }
   },
   "outputs": [
    {
     "name": "stdout",
     "output_type": "stream",
     "text": [
      "<Response [200]>\n",
      "<Response [200]>\n",
      "<Response [200]>\n"
     ]
    }
   ],
   "source": [
    "MAX_PAGE = 3\n",
    "all_books_dict = { 'Title': [], 'Price': [], 'Rating': [] }\n",
    "for page in range(1, MAX_PAGE + 1):\n",
    "    url = f\"http://books.toscrape.com/catalogue/page-{page}.html\"\n",
    "    response=requests.get(url)\n",
    "    print(response)\n",
    "    soup=BeautifulSoup(response.content,\"html.parser\")\n",
    "    all_book_html=soup.find_all(\"article\", class_=\"product_pod\")\n",
    "    for book in all_book_html:\n",
    "        all_books_dict[\"Title\"].append(book.find(\"h3\").find(\"a\").attrs[\"title\"])\n",
    "        all_books_dict[\"Price\"].append(float(book.find(\"p\", class_=\"price_color\").string[1:]))\n",
    "        all_books_dict[\"Rating\"].append(parse_rating(book.find(\"p\", class_=\"star-rating\").attrs['class']))"
   ]
  },
  {
   "cell_type": "code",
   "execution_count": 64,
   "id": "27398ead",
   "metadata": {
    "ExecuteTime": {
     "end_time": "2022-04-19T13:39:36.381330Z",
     "start_time": "2022-04-19T13:39:36.374299Z"
    }
   },
   "outputs": [
    {
     "data": {
      "text/plain": [
       "60"
      ]
     },
     "execution_count": 64,
     "metadata": {},
     "output_type": "execute_result"
    }
   ],
   "source": [
    "len(all_books_dict[\"Title\"])"
   ]
  },
  {
   "cell_type": "code",
   "execution_count": 65,
   "id": "09cfc46a",
   "metadata": {
    "ExecuteTime": {
     "end_time": "2022-04-19T13:44:33.155689Z",
     "start_time": "2022-04-19T13:44:33.144075Z"
    }
   },
   "outputs": [
    {
     "data": {
      "text/html": [
       "<div>\n",
       "<style scoped>\n",
       "    .dataframe tbody tr th:only-of-type {\n",
       "        vertical-align: middle;\n",
       "    }\n",
       "\n",
       "    .dataframe tbody tr th {\n",
       "        vertical-align: top;\n",
       "    }\n",
       "\n",
       "    .dataframe thead th {\n",
       "        text-align: right;\n",
       "    }\n",
       "</style>\n",
       "<table border=\"1\" class=\"dataframe\">\n",
       "  <thead>\n",
       "    <tr style=\"text-align: right;\">\n",
       "      <th></th>\n",
       "      <th>Title</th>\n",
       "      <th>Price</th>\n",
       "      <th>Rating</th>\n",
       "    </tr>\n",
       "  </thead>\n",
       "  <tbody>\n",
       "    <tr>\n",
       "      <th>55</th>\n",
       "      <td>The Torch Is Passed: A Harding Family Story</td>\n",
       "      <td>19.09</td>\n",
       "      <td>1</td>\n",
       "    </tr>\n",
       "    <tr>\n",
       "      <th>56</th>\n",
       "      <td>The Secret of Dreadwillow Carse</td>\n",
       "      <td>56.13</td>\n",
       "      <td>1</td>\n",
       "    </tr>\n",
       "    <tr>\n",
       "      <th>57</th>\n",
       "      <td>The Pioneer Woman Cooks: Dinnertime: Comfort C...</td>\n",
       "      <td>56.41</td>\n",
       "      <td>1</td>\n",
       "    </tr>\n",
       "    <tr>\n",
       "      <th>58</th>\n",
       "      <td>The Past Never Ends</td>\n",
       "      <td>56.50</td>\n",
       "      <td>4</td>\n",
       "    </tr>\n",
       "    <tr>\n",
       "      <th>59</th>\n",
       "      <td>The Natural History of Us (The Fine Art of Pre...</td>\n",
       "      <td>45.22</td>\n",
       "      <td>3</td>\n",
       "    </tr>\n",
       "  </tbody>\n",
       "</table>\n",
       "</div>"
      ],
      "text/plain": [
       "                                                Title  Price  Rating\n",
       "55        The Torch Is Passed: A Harding Family Story  19.09       1\n",
       "56                    The Secret of Dreadwillow Carse  56.13       1\n",
       "57  The Pioneer Woman Cooks: Dinnertime: Comfort C...  56.41       1\n",
       "58                                The Past Never Ends  56.50       4\n",
       "59  The Natural History of Us (The Fine Art of Pre...  45.22       3"
      ]
     },
     "execution_count": 65,
     "metadata": {},
     "output_type": "execute_result"
    }
   ],
   "source": [
    "all_books_df = pd.DataFrame.from_dict(all_books_dict)\n",
    "all_books_df.tail()"
   ]
  },
  {
   "cell_type": "code",
   "execution_count": 68,
   "id": "0201b694",
   "metadata": {
    "ExecuteTime": {
     "end_time": "2022-04-19T13:46:00.308367Z",
     "start_time": "2022-04-19T13:46:00.147334Z"
    }
   },
   "outputs": [
    {
     "data": {
      "text/plain": [
       "<AxesSubplot:>"
      ]
     },
     "execution_count": 68,
     "metadata": {},
     "output_type": "execute_result"
    },
    {
     "data": {
      "image/png": "[encoded data removed]",
      "text/plain": [
       "<Figure size 432x288 with 1 Axes>"
      ]
     },
     "metadata": {
      "needs_background": "light"
     },
     "output_type": "display_data"
    }
   ],
   "source": [
    "all_books_df[\"Price\"].hist()"
   ]
  },
  {
   "cell_type": "code",
   "execution_count": 69,
   "id": "1a18386c",
   "metadata": {
    "ExecuteTime": {
     "end_time": "2022-04-19T13:46:40.712480Z",
     "start_time": "2022-04-19T13:46:40.561100Z"
    }
   },
   "outputs": [
    {
     "data": {
      "text/plain": [
       "<AxesSubplot:xlabel='Rating'>"
      ]
     },
     "execution_count": 69,
     "metadata": {},
     "output_type": "execute_result"
    },
    {
     "data": {
      "image/png": "[encoded data removed]",
      "text/plain": [
       "<Figure size 432x288 with 1 Axes>"
      ]
     },
     "metadata": {
      "needs_background": "light"
     },
     "output_type": "display_data"
    }
   ],
   "source": [
    "all_books_df.groupby(\"Rating\").count()[\"Title\"].plot(kind=\"bar\")"
   ]
  },
  {
   "cell_type": "code",
   "execution_count": 70,
   "id": "f90f82b7",
   "metadata": {
    "ExecuteTime": {
     "end_time": "2022-04-19T13:47:18.661585Z",
     "start_time": "2022-04-19T13:47:18.650723Z"
    }
   },
   "outputs": [],
   "source": [
    "all_books_df.to_csv(\"books.csv\")"
   ]
  },
  {
   "cell_type": "code",
   "execution_count": null,
   "id": "06babdd7",
   "metadata": {},
   "outputs": [],
   "source": []
  }
 ],
 "metadata": {
  "kernelspec": {
   "display_name": "Python 3 (ipykernel)",
   "language": "python",
   "name": "python3"
  },
  "language_info": {
   "codemirror_mode": {
    "name": "ipython",
    "version": 3
   },
   "file_extension": ".py",
   "mimetype": "text/x-python",
   "name": "python",
   "nbconvert_exporter": "python",
   "pygments_lexer": "ipython3",
   "version": "3.8.12"
  },
  "toc": {
   "base_numbering": 1,
   "nav_menu": {},
   "number_sections": true,
   "sideBar": true,
   "skip_h1_title": false,
   "title_cell": "Table of Contents",
   "title_sidebar": "Contents",
   "toc_cell": false,
   "toc_position": {},
   "toc_section_display": true,
   "toc_window_display": false
  },
  "varInspector": {
   "cols": {
    "lenName": 16,
    "lenType": 16,
    "lenVar": 40
   },
   "kernels_config": {
    "python": {
     "delete_cmd_postfix": "",
     "delete_cmd_prefix": "del ",
     "library": "var_list.py",
     "varRefreshCmd": "print(var_dic_list())"
    },
    "r": {
     "delete_cmd_postfix": ") ",
     "delete_cmd_prefix": "rm(",
     "library": "var_list.r",
     "varRefreshCmd": "cat(var_dic_list()) "
    }
   },
   "types_to_exclude": [
    "module",
    "function",
    "builtin_function_or_method",
    "instance",
    "_Feature"
   ],
   "window_display": false
  }
 },
 "nbformat": 4,
 "nbformat_minor": 5
}
