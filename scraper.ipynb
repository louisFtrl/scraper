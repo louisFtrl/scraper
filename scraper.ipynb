{
 "cells": [
  {
   "cell_type": "markdown",
   "id": "9f404b76",
   "metadata": {
    "heading_collapsed": true
   },
   "source": [
    "## Make_import"
   ]
  },
  {
   "cell_type": "code",
   "execution_count": 1,
   "id": "fd7151e3",
   "metadata": {
    "ExecuteTime": {
     "end_time": "2022-09-21T09:39:07.601750Z",
     "start_time": "2022-09-21T09:39:07.518160Z"
    },
    "hidden": true
   },
   "outputs": [],
   "source": [
    "%load_ext autoreload\n",
    "%autoreload 2"
   ]
  },
  {
   "cell_type": "code",
   "execution_count": 62,
   "id": "c2949108",
   "metadata": {
    "ExecuteTime": {
     "end_time": "2022-09-21T12:53:22.992977Z",
     "start_time": "2022-09-21T12:53:22.555582Z"
    },
    "hidden": true
   },
   "outputs": [],
   "source": [
    "import requests\n",
    "from bs4 import BeautifulSoup\n",
    "\n",
    "import numpy as np\n",
    "import pandas as pd\n",
    "\n",
    "%matplotlib inline\n",
    "import matplotlib.pyplot as plt"
   ]
  },
  {
   "cell_type": "markdown",
   "id": "62a3f4fc",
   "metadata": {
    "heading_collapsed": true
   },
   "source": [
    "## Fetch_data"
   ]
  },
  {
   "cell_type": "code",
   "execution_count": 4,
   "id": "93342880",
   "metadata": {
    "ExecuteTime": {
     "end_time": "2022-09-21T09:46:06.995192Z",
     "start_time": "2022-09-21T09:46:06.466215Z"
    },
    "hidden": true
   },
   "outputs": [],
   "source": [
    "url = \"http://books.toscrape.com/\"\n",
    "\n",
    "# TODO: Use `requests` to do an HTTP request to fetch data located at that URL\n",
    "fetch_data = requests.get(url)\n",
    "# TODO: Create a `BeautifulSoup` instance with that data\n",
    "soup = BeautifulSoup(fetch_data.content,\"html.parser\")"
   ]
  },
  {
   "cell_type": "code",
   "execution_count": 8,
   "id": "d86320ac",
   "metadata": {
    "ExecuteTime": {
     "end_time": "2022-09-21T12:09:42.259865Z",
     "start_time": "2022-09-21T12:09:41.908007Z"
    },
    "hidden": true
   },
   "outputs": [
    {
     "data": {
      "text/plain": [
       "20"
      ]
     },
     "execution_count": 8,
     "metadata": {},
     "output_type": "execute_result"
    }
   ],
   "source": [
    "books = soup.find_all(\"article\",class_=\"product_pod\")\n",
    "len(books)"
   ]
  },
  {
   "cell_type": "markdown",
   "id": "86416a0b",
   "metadata": {
    "heading_collapsed": true
   },
   "source": [
    "## Parsing_one_book"
   ]
  },
  {
   "cell_type": "code",
   "execution_count": 18,
   "id": "5188ed32",
   "metadata": {
    "ExecuteTime": {
     "end_time": "2022-09-21T12:15:02.967809Z",
     "start_time": "2022-09-21T12:15:02.621030Z"
    },
    "hidden": true
   },
   "outputs": [],
   "source": [
    "book_title = books[0].find(\"h3\").find(\"a\").attrs[\"title\"]"
   ]
  },
  {
   "cell_type": "code",
   "execution_count": 28,
   "id": "5da61f31",
   "metadata": {
    "ExecuteTime": {
     "end_time": "2022-09-21T12:20:36.856583Z",
     "start_time": "2022-09-21T12:20:36.486515Z"
    },
    "hidden": true
   },
   "outputs": [],
   "source": [
    "book_price = float(books[0].find(\"div\", class_=\"product_price\").find(\"p\", class_=\"price_color\").string[1:])"
   ]
  },
  {
   "cell_type": "code",
   "execution_count": 46,
   "id": "e9f811b0",
   "metadata": {
    "ExecuteTime": {
     "end_time": "2022-09-21T12:43:10.821781Z",
     "start_time": "2022-09-21T12:43:10.643518Z"
    },
    "hidden": true
   },
   "outputs": [
    {
     "data": {
      "text/plain": [
       "['star-rating', 'Three']"
      ]
     },
     "execution_count": 46,
     "metadata": {},
     "output_type": "execute_result"
    }
   ],
   "source": [
    "book_stars = books[0].find(\"p\", class_=\"star-rating\").attrs[\"class\"]\n",
    "book_stars"
   ]
  },
  {
   "cell_type": "code",
   "execution_count": 41,
   "id": "1fa2b866",
   "metadata": {
    "ExecuteTime": {
     "end_time": "2022-09-21T12:31:07.458588Z",
     "start_time": "2022-09-21T12:31:07.074430Z"
    },
    "hidden": true
   },
   "outputs": [],
   "source": [
    "def parse_rating(rating_classes):\n",
    "    dict_ratg = {\n",
    "                \"One\":1,\n",
    "                \"Two\":2,\n",
    "                \"Three\":3,\n",
    "                \"Four\":4,\n",
    "                \"Five\":5\n",
    "                }\n",
    "    return int(''.join([str(v) for k, v in dict_ratg.items() if k in rating_classes]))"
   ]
  },
  {
   "cell_type": "code",
   "execution_count": 42,
   "id": "1eb6ad8e",
   "metadata": {
    "ExecuteTime": {
     "end_time": "2022-09-21T12:31:08.608582Z",
     "start_time": "2022-09-21T12:31:08.232520Z"
    },
    "hidden": true
   },
   "outputs": [
    {
     "data": {
      "text/plain": [
       "3"
      ]
     },
     "execution_count": 42,
     "metadata": {},
     "output_type": "execute_result"
    }
   ],
   "source": [
    "parse_rating(book_stars)"
   ]
  },
  {
   "cell_type": "markdown",
   "id": "ea3a1fa3",
   "metadata": {
    "heading_collapsed": true
   },
   "source": [
    "## Parsing_all_books"
   ]
  },
  {
   "cell_type": "code",
   "execution_count": 52,
   "id": "7e61bcf9",
   "metadata": {
    "ExecuteTime": {
     "end_time": "2022-09-21T12:47:21.639900Z",
     "start_time": "2022-09-21T12:47:21.379931Z"
    },
    "hidden": true
   },
   "outputs": [],
   "source": [
    "books_dict = {\"title\":[], \"price\":[], \"rating\":[]}\n",
    "for book in books:\n",
    "    books_dict[\"title\"].append(book.find(\"h3\").find(\"a\").attrs[\"title\"])\n",
    "    books_dict[\"price\"].append(float(book.find(\"p\", class_=\"price_color\").string[1:]))\n",
    "    books_dict[\"rating\"].append(parse_rating(book.find(\"p\", class_=\"star-rating\").attrs[\"class\"]))\n",
    "    "
   ]
  },
  {
   "cell_type": "code",
   "execution_count": 55,
   "id": "b6c852cb",
   "metadata": {
    "ExecuteTime": {
     "end_time": "2022-09-21T12:48:12.572315Z",
     "start_time": "2022-09-21T12:48:12.233271Z"
    },
    "hidden": true
   },
   "outputs": [
    {
     "data": {
      "text/plain": [
       "20"
      ]
     },
     "execution_count": 55,
     "metadata": {},
     "output_type": "execute_result"
    }
   ],
   "source": [
    "len(books_dict[\"title\"])"
   ]
  },
  {
   "cell_type": "markdown",
   "id": "39cc64ea",
   "metadata": {
    "heading_collapsed": true
   },
   "source": [
    "## Loading_data_in_pandas"
   ]
  },
  {
   "cell_type": "code",
   "execution_count": 59,
   "id": "e6736f4f",
   "metadata": {
    "ExecuteTime": {
     "end_time": "2022-09-21T12:51:26.255737Z",
     "start_time": "2022-09-21T12:51:25.825687Z"
    },
    "hidden": true
   },
   "outputs": [],
   "source": [
    "books_df=pd.DataFrame.from_dict(books_dict)"
   ]
  },
  {
   "cell_type": "code",
   "execution_count": 63,
   "id": "b62b19e6",
   "metadata": {
    "ExecuteTime": {
     "end_time": "2022-09-21T12:53:26.001503Z",
     "start_time": "2022-09-21T12:53:25.115842Z"
    },
    "hidden": true
   },
   "outputs": [
    {
     "data": {
      "image/png": "[encoded data removed]",
      "text/plain": [
       "<Figure size 432x288 with 1 Axes>"
      ]
     },
     "metadata": {
      "needs_background": "light"
     },
     "output_type": "display_data"
    }
   ],
   "source": [
    "books_df.groupby(\"rating\").count()[\"title\"].plot(kind=\"bar\");\n",
    "plt.title(\"number of books by rating\");"
   ]
  },
  {
   "cell_type": "markdown",
   "id": "1ba75dbc",
   "metadata": {
    "heading_collapsed": true
   },
   "source": [
    "## Going_through_all_pages"
   ]
  },
  {
   "cell_type": "code",
   "execution_count": 71,
   "id": "4bf26353",
   "metadata": {
    "ExecuteTime": {
     "end_time": "2022-09-21T13:13:14.859675Z",
     "start_time": "2022-09-21T13:13:11.917018Z"
    },
    "hidden": true
   },
   "outputs": [
    {
     "name": "stdout",
     "output_type": "stream",
     "text": [
      "parsing page 1...\n",
      "parsing page 2...\n",
      "parsing page 3...\n",
      "parsing page 4...\n",
      "parsing page 5...\n"
     ]
    },
    {
     "data": {
      "text/plain": [
       "{'title': ['A Light in the Attic',\n",
       "  'Tipping the Velvet',\n",
       "  'Soumission',\n",
       "  'Sharp Objects',\n",
       "  'Sapiens: A Brief History of Humankind',\n",
       "  'The Requiem Red',\n",
       "  'The Dirty Little Secrets of Getting Your Dream Job',\n",
       "  'The Coming Woman: A Novel Based on the Life of the Infamous Feminist, Victoria Woodhull',\n",
       "  'The Boys in the Boat: Nine Americans and Their Epic Quest for Gold at the 1936 Berlin Olympics',\n",
       "  'The Black Maria',\n",
       "  'Starving Hearts (Triangular Trade Trilogy, #1)',\n",
       "  \"Shakespeare's Sonnets\",\n",
       "  'Set Me Free',\n",
       "  \"Scott Pilgrim's Precious Little Life (Scott Pilgrim #1)\",\n",
       "  'Rip it Up and Start Again',\n",
       "  'Our Band Could Be Your Life: Scenes from the American Indie Underground, 1981-1991',\n",
       "  'Olio',\n",
       "  'Mesaerion: The Best Science Fiction Stories 1800-1849',\n",
       "  'Libertarianism for Beginners',\n",
       "  \"It's Only the Himalayas\",\n",
       "  'A Light in the Attic',\n",
       "  'Tipping the Velvet',\n",
       "  'Soumission',\n",
       "  'Sharp Objects',\n",
       "  'Sapiens: A Brief History of Humankind',\n",
       "  'The Requiem Red',\n",
       "  'The Dirty Little Secrets of Getting Your Dream Job',\n",
       "  'The Coming Woman: A Novel Based on the Life of the Infamous Feminist, Victoria Woodhull',\n",
       "  'The Boys in the Boat: Nine Americans and Their Epic Quest for Gold at the 1936 Berlin Olympics',\n",
       "  'The Black Maria',\n",
       "  'Starving Hearts (Triangular Trade Trilogy, #1)',\n",
       "  \"Shakespeare's Sonnets\",\n",
       "  'Set Me Free',\n",
       "  \"Scott Pilgrim's Precious Little Life (Scott Pilgrim #1)\",\n",
       "  'Rip it Up and Start Again',\n",
       "  'Our Band Could Be Your Life: Scenes from the American Indie Underground, 1981-1991',\n",
       "  'Olio',\n",
       "  'Mesaerion: The Best Science Fiction Stories 1800-1849',\n",
       "  'Libertarianism for Beginners',\n",
       "  \"It's Only the Himalayas\",\n",
       "  'A Light in the Attic',\n",
       "  'Tipping the Velvet',\n",
       "  'Soumission',\n",
       "  'Sharp Objects',\n",
       "  'Sapiens: A Brief History of Humankind',\n",
       "  'The Requiem Red',\n",
       "  'The Dirty Little Secrets of Getting Your Dream Job',\n",
       "  'The Coming Woman: A Novel Based on the Life of the Infamous Feminist, Victoria Woodhull',\n",
       "  'The Boys in the Boat: Nine Americans and Their Epic Quest for Gold at the 1936 Berlin Olympics',\n",
       "  'The Black Maria',\n",
       "  'Starving Hearts (Triangular Trade Trilogy, #1)',\n",
       "  \"Shakespeare's Sonnets\",\n",
       "  'Set Me Free',\n",
       "  \"Scott Pilgrim's Precious Little Life (Scott Pilgrim #1)\",\n",
       "  'Rip it Up and Start Again',\n",
       "  'Our Band Could Be Your Life: Scenes from the American Indie Underground, 1981-1991',\n",
       "  'Olio',\n",
       "  'Mesaerion: The Best Science Fiction Stories 1800-1849',\n",
       "  'Libertarianism for Beginners',\n",
       "  \"It's Only the Himalayas\",\n",
       "  'A Light in the Attic',\n",
       "  'Tipping the Velvet',\n",
       "  'Soumission',\n",
       "  'Sharp Objects',\n",
       "  'Sapiens: A Brief History of Humankind',\n",
       "  'The Requiem Red',\n",
       "  'The Dirty Little Secrets of Getting Your Dream Job',\n",
       "  'The Coming Woman: A Novel Based on the Life of the Infamous Feminist, Victoria Woodhull',\n",
       "  'The Boys in the Boat: Nine Americans and Their Epic Quest for Gold at the 1936 Berlin Olympics',\n",
       "  'The Black Maria',\n",
       "  'Starving Hearts (Triangular Trade Trilogy, #1)',\n",
       "  \"Shakespeare's Sonnets\",\n",
       "  'Set Me Free',\n",
       "  \"Scott Pilgrim's Precious Little Life (Scott Pilgrim #1)\",\n",
       "  'Rip it Up and Start Again',\n",
       "  'Our Band Could Be Your Life: Scenes from the American Indie Underground, 1981-1991',\n",
       "  'Olio',\n",
       "  'Mesaerion: The Best Science Fiction Stories 1800-1849',\n",
       "  'Libertarianism for Beginners',\n",
       "  \"It's Only the Himalayas\",\n",
       "  'A Light in the Attic',\n",
       "  'Tipping the Velvet',\n",
       "  'Soumission',\n",
       "  'Sharp Objects',\n",
       "  'Sapiens: A Brief History of Humankind',\n",
       "  'The Requiem Red',\n",
       "  'The Dirty Little Secrets of Getting Your Dream Job',\n",
       "  'The Coming Woman: A Novel Based on the Life of the Infamous Feminist, Victoria Woodhull',\n",
       "  'The Boys in the Boat: Nine Americans and Their Epic Quest for Gold at the 1936 Berlin Olympics',\n",
       "  'The Black Maria',\n",
       "  'Starving Hearts (Triangular Trade Trilogy, #1)',\n",
       "  \"Shakespeare's Sonnets\",\n",
       "  'Set Me Free',\n",
       "  \"Scott Pilgrim's Precious Little Life (Scott Pilgrim #1)\",\n",
       "  'Rip it Up and Start Again',\n",
       "  'Our Band Could Be Your Life: Scenes from the American Indie Underground, 1981-1991',\n",
       "  'Olio',\n",
       "  'Mesaerion: The Best Science Fiction Stories 1800-1849',\n",
       "  'Libertarianism for Beginners',\n",
       "  \"It's Only the Himalayas\"],\n",
       " 'price': [51.77,\n",
       "  53.74,\n",
       "  50.1,\n",
       "  47.82,\n",
       "  54.23,\n",
       "  22.65,\n",
       "  33.34,\n",
       "  17.93,\n",
       "  22.6,\n",
       "  52.15,\n",
       "  13.99,\n",
       "  20.66,\n",
       "  17.46,\n",
       "  52.29,\n",
       "  35.02,\n",
       "  57.25,\n",
       "  23.88,\n",
       "  37.59,\n",
       "  51.33,\n",
       "  45.17,\n",
       "  51.77,\n",
       "  53.74,\n",
       "  50.1,\n",
       "  47.82,\n",
       "  54.23,\n",
       "  22.65,\n",
       "  33.34,\n",
       "  17.93,\n",
       "  22.6,\n",
       "  52.15,\n",
       "  13.99,\n",
       "  20.66,\n",
       "  17.46,\n",
       "  52.29,\n",
       "  35.02,\n",
       "  57.25,\n",
       "  23.88,\n",
       "  37.59,\n",
       "  51.33,\n",
       "  45.17,\n",
       "  51.77,\n",
       "  53.74,\n",
       "  50.1,\n",
       "  47.82,\n",
       "  54.23,\n",
       "  22.65,\n",
       "  33.34,\n",
       "  17.93,\n",
       "  22.6,\n",
       "  52.15,\n",
       "  13.99,\n",
       "  20.66,\n",
       "  17.46,\n",
       "  52.29,\n",
       "  35.02,\n",
       "  57.25,\n",
       "  23.88,\n",
       "  37.59,\n",
       "  51.33,\n",
       "  45.17,\n",
       "  51.77,\n",
       "  53.74,\n",
       "  50.1,\n",
       "  47.82,\n",
       "  54.23,\n",
       "  22.65,\n",
       "  33.34,\n",
       "  17.93,\n",
       "  22.6,\n",
       "  52.15,\n",
       "  13.99,\n",
       "  20.66,\n",
       "  17.46,\n",
       "  52.29,\n",
       "  35.02,\n",
       "  57.25,\n",
       "  23.88,\n",
       "  37.59,\n",
       "  51.33,\n",
       "  45.17,\n",
       "  51.77,\n",
       "  53.74,\n",
       "  50.1,\n",
       "  47.82,\n",
       "  54.23,\n",
       "  22.65,\n",
       "  33.34,\n",
       "  17.93,\n",
       "  22.6,\n",
       "  52.15,\n",
       "  13.99,\n",
       "  20.66,\n",
       "  17.46,\n",
       "  52.29,\n",
       "  35.02,\n",
       "  57.25,\n",
       "  23.88,\n",
       "  37.59,\n",
       "  51.33,\n",
       "  45.17],\n",
       " 'rating': [3,\n",
       "  1,\n",
       "  1,\n",
       "  4,\n",
       "  5,\n",
       "  1,\n",
       "  4,\n",
       "  3,\n",
       "  4,\n",
       "  1,\n",
       "  2,\n",
       "  4,\n",
       "  5,\n",
       "  5,\n",
       "  5,\n",
       "  3,\n",
       "  1,\n",
       "  1,\n",
       "  2,\n",
       "  2,\n",
       "  3,\n",
       "  1,\n",
       "  1,\n",
       "  4,\n",
       "  5,\n",
       "  1,\n",
       "  4,\n",
       "  3,\n",
       "  4,\n",
       "  1,\n",
       "  2,\n",
       "  4,\n",
       "  5,\n",
       "  5,\n",
       "  5,\n",
       "  3,\n",
       "  1,\n",
       "  1,\n",
       "  2,\n",
       "  2,\n",
       "  3,\n",
       "  1,\n",
       "  1,\n",
       "  4,\n",
       "  5,\n",
       "  1,\n",
       "  4,\n",
       "  3,\n",
       "  4,\n",
       "  1,\n",
       "  2,\n",
       "  4,\n",
       "  5,\n",
       "  5,\n",
       "  5,\n",
       "  3,\n",
       "  1,\n",
       "  1,\n",
       "  2,\n",
       "  2,\n",
       "  3,\n",
       "  1,\n",
       "  1,\n",
       "  4,\n",
       "  5,\n",
       "  1,\n",
       "  4,\n",
       "  3,\n",
       "  4,\n",
       "  1,\n",
       "  2,\n",
       "  4,\n",
       "  5,\n",
       "  5,\n",
       "  5,\n",
       "  3,\n",
       "  1,\n",
       "  1,\n",
       "  2,\n",
       "  2,\n",
       "  3,\n",
       "  1,\n",
       "  1,\n",
       "  4,\n",
       "  5,\n",
       "  1,\n",
       "  4,\n",
       "  3,\n",
       "  4,\n",
       "  1,\n",
       "  2,\n",
       "  4,\n",
       "  5,\n",
       "  5,\n",
       "  5,\n",
       "  3,\n",
       "  1,\n",
       "  1,\n",
       "  2,\n",
       "  2]}"
      ]
     },
     "execution_count": 71,
     "metadata": {},
     "output_type": "execute_result"
    }
   ],
   "source": [
    "all_books={\"title\":[],\"price\":[],\"rating\":[]}\n",
    "\n",
    "max_pages=5\n",
    "for page in range(1,max_pages+1):\n",
    "    print(f\"parsing page {page}...\")\n",
    "    url=f\"http://books.toscrape.com/catalogue/page-{page}.html\"\n",
    "    fetch_data_by_page=requests.get(url)\n",
    "    soup_by_page=BeautifulSoup(fetch_data.content,\"html.parser\")\n",
    "    \n",
    "    for book in soup_by_page.find_all(\"article\",class_=\"product_pod\"):\n",
    "        all_books[\"title\"].append(book.find(\"h3\").find(\"a\").attrs[\"title\"])\n",
    "        all_books[\"price\"].append(float(book.find(\"p\", class_=\"price_color\").string[1:]))\n",
    "        all_books[\"rating\"].append(parse_rating(book.find(\"p\", class_=\"star-rating\").attrs[\"class\"]))\n",
    "        \n",
    "all_books"
   ]
  },
  {
   "cell_type": "code",
   "execution_count": 73,
   "id": "926d172c",
   "metadata": {
    "ExecuteTime": {
     "end_time": "2022-09-21T13:14:11.770170Z",
     "start_time": "2022-09-21T13:14:11.742841Z"
    },
    "hidden": true
   },
   "outputs": [
    {
     "data": {
      "text/plain": [
       "100"
      ]
     },
     "execution_count": 73,
     "metadata": {},
     "output_type": "execute_result"
    }
   ],
   "source": [
    "len(all_books[\"title\"])"
   ]
  },
  {
   "cell_type": "code",
   "execution_count": 76,
   "id": "622fecf2",
   "metadata": {
    "ExecuteTime": {
     "end_time": "2022-09-21T13:15:38.786773Z",
     "start_time": "2022-09-21T13:15:38.292801Z"
    },
    "hidden": true
   },
   "outputs": [
    {
     "data": {
      "text/html": [
       "<div>\n",
       "<style scoped>\n",
       "    .dataframe tbody tr th:only-of-type {\n",
       "        vertical-align: middle;\n",
       "    }\n",
       "\n",
       "    .dataframe tbody tr th {\n",
       "        vertical-align: top;\n",
       "    }\n",
       "\n",
       "    .dataframe thead th {\n",
       "        text-align: right;\n",
       "    }\n",
       "</style>\n",
       "<table border=\"1\" class=\"dataframe\">\n",
       "  <thead>\n",
       "    <tr style=\"text-align: right;\">\n",
       "      <th></th>\n",
       "      <th>title</th>\n",
       "      <th>price</th>\n",
       "      <th>rating</th>\n",
       "    </tr>\n",
       "  </thead>\n",
       "  <tbody>\n",
       "    <tr>\n",
       "      <th>95</th>\n",
       "      <td>Our Band Could Be Your Life: Scenes from the A...</td>\n",
       "      <td>57.25</td>\n",
       "      <td>3</td>\n",
       "    </tr>\n",
       "    <tr>\n",
       "      <th>96</th>\n",
       "      <td>Olio</td>\n",
       "      <td>23.88</td>\n",
       "      <td>1</td>\n",
       "    </tr>\n",
       "    <tr>\n",
       "      <th>97</th>\n",
       "      <td>Mesaerion: The Best Science Fiction Stories 18...</td>\n",
       "      <td>37.59</td>\n",
       "      <td>1</td>\n",
       "    </tr>\n",
       "    <tr>\n",
       "      <th>98</th>\n",
       "      <td>Libertarianism for Beginners</td>\n",
       "      <td>51.33</td>\n",
       "      <td>2</td>\n",
       "    </tr>\n",
       "    <tr>\n",
       "      <th>99</th>\n",
       "      <td>It's Only the Himalayas</td>\n",
       "      <td>45.17</td>\n",
       "      <td>2</td>\n",
       "    </tr>\n",
       "  </tbody>\n",
       "</table>\n",
       "</div>"
      ],
      "text/plain": [
       "                                                title  price  rating\n",
       "95  Our Band Could Be Your Life: Scenes from the A...  57.25       3\n",
       "96                                               Olio  23.88       1\n",
       "97  Mesaerion: The Best Science Fiction Stories 18...  37.59       1\n",
       "98                       Libertarianism for Beginners  51.33       2\n",
       "99                            It's Only the Himalayas  45.17       2"
      ]
     },
     "execution_count": 76,
     "metadata": {},
     "output_type": "execute_result"
    }
   ],
   "source": [
    "all_books_df=pd.DataFrame.from_dict(all_books)\n",
    "all_books_df.tail()"
   ]
  },
  {
   "cell_type": "code",
   "execution_count": 80,
   "id": "615e3f06",
   "metadata": {
    "ExecuteTime": {
     "end_time": "2022-09-21T13:17:02.577010Z",
     "start_time": "2022-09-21T13:17:02.167372Z"
    },
    "hidden": true
   },
   "outputs": [
    {
     "data": {
      "image/png": "[encoded data removed]",
      "text/plain": [
       "<Figure size 432x288 with 1 Axes>"
      ]
     },
     "metadata": {
      "needs_background": "light"
     },
     "output_type": "display_data"
    }
   ],
   "source": [
    "all_books_df[\"price\"].plot(kind=\"hist\");"
   ]
  },
  {
   "cell_type": "code",
   "execution_count": 83,
   "id": "7d50c665",
   "metadata": {
    "ExecuteTime": {
     "end_time": "2022-09-21T13:17:48.458805Z",
     "start_time": "2022-09-21T13:17:47.841383Z"
    },
    "hidden": true
   },
   "outputs": [
    {
     "data": {
      "image/png": "[encoded data removed]",
      "text/plain": [
       "<Figure size 432x288 with 1 Axes>"
      ]
     },
     "metadata": {
      "needs_background": "light"
     },
     "output_type": "display_data"
    }
   ],
   "source": [
    "all_books_df.groupby(\"rating\").count()[\"title\"].plot(kind=\"bar\");"
   ]
  },
  {
   "cell_type": "markdown",
   "id": "d90600eb",
   "metadata": {
    "hidden": true
   },
   "source": [
    "**saving the data for later use**"
   ]
  },
  {
   "cell_type": "code",
   "execution_count": 84,
   "id": "6f8aebbf",
   "metadata": {
    "ExecuteTime": {
     "end_time": "2022-09-21T13:19:13.751241Z",
     "start_time": "2022-09-21T13:19:13.254025Z"
    },
    "hidden": true
   },
   "outputs": [],
   "source": [
    "all_books_df.to_csv(\"books.csv\")"
   ]
  },
  {
   "cell_type": "code",
   "execution_count": 85,
   "id": "2063ee0d",
   "metadata": {
    "ExecuteTime": {
     "end_time": "2022-09-21T13:20:05.782894Z",
     "start_time": "2022-09-21T13:20:05.479096Z"
    },
    "hidden": true
   },
   "outputs": [],
   "source": [
    "all_books_df.to_excel('books.xlsx', sheet_name='Books')"
   ]
  }
 ],
 "metadata": {
  "kernelspec": {
   "display_name": "Python 3 (ipykernel)",
   "language": "python",
   "name": "python3"
  },
  "language_info": {
   "codemirror_mode": {
    "name": "ipython",
    "version": 3
   },
   "file_extension": ".py",
   "mimetype": "text/x-python",
   "name": "python",
   "nbconvert_exporter": "python",
   "pygments_lexer": "ipython3",
   "version": "3.8.12"
  },
  "toc": {
   "base_numbering": 1,
   "nav_menu": {},
   "number_sections": true,
   "sideBar": true,
   "skip_h1_title": false,
   "title_cell": "Table of Contents",
   "title_sidebar": "Contents",
   "toc_cell": false,
   "toc_position": {},
   "toc_section_display": true,
   "toc_window_display": false
  },
  "varInspector": {
   "cols": {
    "lenName": 16,
    "lenType": 16,
    "lenVar": 40
   },
   "kernels_config": {
    "python": {
     "delete_cmd_postfix": "",
     "delete_cmd_prefix": "del ",
     "library": "var_list.py",
     "varRefreshCmd": "print(var_dic_list())"
    },
    "r": {
     "delete_cmd_postfix": ") ",
     "delete_cmd_prefix": "rm(",
     "library": "var_list.r",
     "varRefreshCmd": "cat(var_dic_list()) "
    }
   },
   "types_to_exclude": [
    "module",
    "function",
    "builtin_function_or_method",
    "instance",
    "_Feature"
   ],
   "window_display": false
  }
 },
 "nbformat": 4,
 "nbformat_minor": 5
}
